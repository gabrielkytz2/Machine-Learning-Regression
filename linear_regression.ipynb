{
 "cells": [
  {
   "cell_type": "markdown",
   "id": "3ea6dfef",
   "metadata": {},
   "source": [
    "## Assignment IBM course: Supervised Machine Learning: Regression"
   ]
  },
  {
   "cell_type": "markdown",
   "id": "fd452bb6",
   "metadata": {},
   "source": [
    "### 1) Dataset Description\n",
    "\n",
    "This notebook describes the exploratory data analysis for the Energy Effiency dataset available at the UCI machine learning database https://archive.ics.uci.edu/ml/machine-learning-databases/00242/ENB2012_data.xlsx, and also the construction of a regression model, which can predict the heating load using regression."
   ]
  },
  {
   "cell_type": "markdown",
   "id": "7d717445",
   "metadata": {},
   "source": [
    "### Dataset Variables\n",
    "\n",
    "* 1)X1 Relative Compactness\n",
    "* 2)X2 Surface Area\n",
    "* 3)X3 Wall Area\n",
    "* 4)X4 Roof Area\n",
    "* 5)X5 Overall Height\n",
    "* 6)X6 Orientation\n",
    "* 7)X7 Glazing Area\n",
    "* 8)X8 Glazing Area Distribution\n",
    "* 9)Y1 Heating Load - y variable (dependent)\n",
    "\n",
    "* ps: Y2 Cooling Load - removed\n",
    "\n",
    "Reference:\n",
    "A. Tsanas, A. Xifara: 'Accurate quantitative estimation of energy performance of residential buildings using statistical machine learning tools', Energy and Buildings, Vol. 49, pp. 560-567, 2012."
   ]
  },
  {
   "cell_type": "markdown",
   "id": "8455d807",
   "metadata": {},
   "source": [
    "### 2) Importing needed modules and opening the dataset"
   ]
  },
  {
   "cell_type": "code",
   "execution_count": 1,
   "id": "b77ec770",
   "metadata": {},
   "outputs": [
    {
     "data": {
      "text/html": [
       "<div>\n",
       "<style scoped>\n",
       "    .dataframe tbody tr th:only-of-type {\n",
       "        vertical-align: middle;\n",
       "    }\n",
       "\n",
       "    .dataframe tbody tr th {\n",
       "        vertical-align: top;\n",
       "    }\n",
       "\n",
       "    .dataframe thead th {\n",
       "        text-align: right;\n",
       "    }\n",
       "</style>\n",
       "<table border=\"1\" class=\"dataframe\">\n",
       "  <thead>\n",
       "    <tr style=\"text-align: right;\">\n",
       "      <th></th>\n",
       "      <th>Relative Compactness</th>\n",
       "      <th>Surface Area</th>\n",
       "      <th>Wall Area</th>\n",
       "      <th>Roof Area</th>\n",
       "      <th>Overall Height</th>\n",
       "      <th>Orientation</th>\n",
       "      <th>Glazing Area</th>\n",
       "      <th>Glazing Area Distribution</th>\n",
       "      <th>Heating Load</th>\n",
       "    </tr>\n",
       "  </thead>\n",
       "  <tbody>\n",
       "    <tr>\n",
       "      <th>0</th>\n",
       "      <td>0.98</td>\n",
       "      <td>514.5</td>\n",
       "      <td>294.0</td>\n",
       "      <td>110.25</td>\n",
       "      <td>7.0</td>\n",
       "      <td>2</td>\n",
       "      <td>0.0</td>\n",
       "      <td>0</td>\n",
       "      <td>15.55</td>\n",
       "    </tr>\n",
       "    <tr>\n",
       "      <th>1</th>\n",
       "      <td>0.98</td>\n",
       "      <td>514.5</td>\n",
       "      <td>294.0</td>\n",
       "      <td>110.25</td>\n",
       "      <td>7.0</td>\n",
       "      <td>3</td>\n",
       "      <td>0.0</td>\n",
       "      <td>0</td>\n",
       "      <td>15.55</td>\n",
       "    </tr>\n",
       "    <tr>\n",
       "      <th>2</th>\n",
       "      <td>0.98</td>\n",
       "      <td>514.5</td>\n",
       "      <td>294.0</td>\n",
       "      <td>110.25</td>\n",
       "      <td>7.0</td>\n",
       "      <td>4</td>\n",
       "      <td>0.0</td>\n",
       "      <td>0</td>\n",
       "      <td>15.55</td>\n",
       "    </tr>\n",
       "    <tr>\n",
       "      <th>3</th>\n",
       "      <td>0.98</td>\n",
       "      <td>514.5</td>\n",
       "      <td>294.0</td>\n",
       "      <td>110.25</td>\n",
       "      <td>7.0</td>\n",
       "      <td>5</td>\n",
       "      <td>0.0</td>\n",
       "      <td>0</td>\n",
       "      <td>15.55</td>\n",
       "    </tr>\n",
       "    <tr>\n",
       "      <th>4</th>\n",
       "      <td>0.90</td>\n",
       "      <td>563.5</td>\n",
       "      <td>318.5</td>\n",
       "      <td>122.50</td>\n",
       "      <td>7.0</td>\n",
       "      <td>2</td>\n",
       "      <td>0.0</td>\n",
       "      <td>0</td>\n",
       "      <td>20.84</td>\n",
       "    </tr>\n",
       "    <tr>\n",
       "      <th>...</th>\n",
       "      <td>...</td>\n",
       "      <td>...</td>\n",
       "      <td>...</td>\n",
       "      <td>...</td>\n",
       "      <td>...</td>\n",
       "      <td>...</td>\n",
       "      <td>...</td>\n",
       "      <td>...</td>\n",
       "      <td>...</td>\n",
       "    </tr>\n",
       "    <tr>\n",
       "      <th>763</th>\n",
       "      <td>0.64</td>\n",
       "      <td>784.0</td>\n",
       "      <td>343.0</td>\n",
       "      <td>220.50</td>\n",
       "      <td>3.5</td>\n",
       "      <td>5</td>\n",
       "      <td>0.4</td>\n",
       "      <td>5</td>\n",
       "      <td>17.88</td>\n",
       "    </tr>\n",
       "    <tr>\n",
       "      <th>764</th>\n",
       "      <td>0.62</td>\n",
       "      <td>808.5</td>\n",
       "      <td>367.5</td>\n",
       "      <td>220.50</td>\n",
       "      <td>3.5</td>\n",
       "      <td>2</td>\n",
       "      <td>0.4</td>\n",
       "      <td>5</td>\n",
       "      <td>16.54</td>\n",
       "    </tr>\n",
       "    <tr>\n",
       "      <th>765</th>\n",
       "      <td>0.62</td>\n",
       "      <td>808.5</td>\n",
       "      <td>367.5</td>\n",
       "      <td>220.50</td>\n",
       "      <td>3.5</td>\n",
       "      <td>3</td>\n",
       "      <td>0.4</td>\n",
       "      <td>5</td>\n",
       "      <td>16.44</td>\n",
       "    </tr>\n",
       "    <tr>\n",
       "      <th>766</th>\n",
       "      <td>0.62</td>\n",
       "      <td>808.5</td>\n",
       "      <td>367.5</td>\n",
       "      <td>220.50</td>\n",
       "      <td>3.5</td>\n",
       "      <td>4</td>\n",
       "      <td>0.4</td>\n",
       "      <td>5</td>\n",
       "      <td>16.48</td>\n",
       "    </tr>\n",
       "    <tr>\n",
       "      <th>767</th>\n",
       "      <td>0.62</td>\n",
       "      <td>808.5</td>\n",
       "      <td>367.5</td>\n",
       "      <td>220.50</td>\n",
       "      <td>3.5</td>\n",
       "      <td>5</td>\n",
       "      <td>0.4</td>\n",
       "      <td>5</td>\n",
       "      <td>16.64</td>\n",
       "    </tr>\n",
       "  </tbody>\n",
       "</table>\n",
       "<p>768 rows × 9 columns</p>\n",
       "</div>"
      ],
      "text/plain": [
       "     Relative Compactness  Surface Area  Wall Area  Roof Area  Overall Height  \\\n",
       "0                    0.98         514.5      294.0     110.25             7.0   \n",
       "1                    0.98         514.5      294.0     110.25             7.0   \n",
       "2                    0.98         514.5      294.0     110.25             7.0   \n",
       "3                    0.98         514.5      294.0     110.25             7.0   \n",
       "4                    0.90         563.5      318.5     122.50             7.0   \n",
       "..                    ...           ...        ...        ...             ...   \n",
       "763                  0.64         784.0      343.0     220.50             3.5   \n",
       "764                  0.62         808.5      367.5     220.50             3.5   \n",
       "765                  0.62         808.5      367.5     220.50             3.5   \n",
       "766                  0.62         808.5      367.5     220.50             3.5   \n",
       "767                  0.62         808.5      367.5     220.50             3.5   \n",
       "\n",
       "     Orientation  Glazing Area  Glazing Area Distribution  Heating Load  \n",
       "0              2           0.0                          0         15.55  \n",
       "1              3           0.0                          0         15.55  \n",
       "2              4           0.0                          0         15.55  \n",
       "3              5           0.0                          0         15.55  \n",
       "4              2           0.0                          0         20.84  \n",
       "..           ...           ...                        ...           ...  \n",
       "763            5           0.4                          5         17.88  \n",
       "764            2           0.4                          5         16.54  \n",
       "765            3           0.4                          5         16.44  \n",
       "766            4           0.4                          5         16.48  \n",
       "767            5           0.4                          5         16.64  \n",
       "\n",
       "[768 rows x 9 columns]"
      ]
     },
     "execution_count": 1,
     "metadata": {},
     "output_type": "execute_result"
    }
   ],
   "source": [
    "#Importing needed modules\n",
    "import pandas as pd\n",
    "import numpy as np\n",
    "import re\n",
    "from scipy import stats\n",
    "import matplotlib.pyplot as plt\n",
    "from scipy.stats import boxcox\n",
    "from scipy.stats import normaltest\n",
    "from sklearn.preprocessing import StandardScaler, PolynomialFeatures\n",
    "from sklearn.model_selection import KFold, cross_val_predict\n",
    "from sklearn.linear_model import LinearRegression, Ridge, Lasso\n",
    "from sklearn.metrics import r2_score, mean_squared_error\n",
    "from sklearn.pipeline import Pipeline\n",
    "from sklearn.model_selection import train_test_split\n",
    "\n",
    "#Saving the dataset into a pandas dataframe\n",
    "#df = pd.read_excel ('https://archive.ics.uci.edu/ml/machine-learning-databases/00242/ENB2012_data.xlsx')\n",
    "df = pd.read_excel ('ENB2012_data.xlsx')\n",
    "\n",
    "#Removing unnecessary variables from the dataset\n",
    "df = df.drop (['Y2', 'Unnamed: 10', 'Unnamed: 11'], axis = 1)\n",
    "\n",
    "#Renaming variables\n",
    "df = df.rename (columns = {'X1':'Relative Compactness',\n",
    "                           'X2':'Surface Area',\n",
    "                           'X3':'Wall Area',\n",
    "                           'X4':'Roof Area',\n",
    "                           'X5':'Overall Height',\n",
    "                           'X6':'Orientation',\n",
    "                           'X7':'Glazing Area',\n",
    "                           'X8':'Glazing Area Distribution',\n",
    "                           'Y1':'Heating Load'})\n",
    "\n",
    "#Showing the dataset\n",
    "df"
   ]
  },
  {
   "cell_type": "markdown",
   "id": "34339978",
   "metadata": {},
   "source": [
    "### 3) Exploratory data analysis"
   ]
  },
  {
   "cell_type": "code",
   "execution_count": 2,
   "id": "5f2c8eeb",
   "metadata": {},
   "outputs": [
    {
     "data": {
      "text/plain": [
       "Relative Compactness         float64\n",
       "Surface Area                 float64\n",
       "Wall Area                    float64\n",
       "Roof Area                    float64\n",
       "Overall Height               float64\n",
       "Orientation                    int64\n",
       "Glazing Area                 float64\n",
       "Glazing Area Distribution      int64\n",
       "Heating Load                 float64\n",
       "dtype: object"
      ]
     },
     "execution_count": 2,
     "metadata": {},
     "output_type": "execute_result"
    }
   ],
   "source": [
    "#Relative Compactness, Surface Area, Wall Area, Roof Area, Overall Height, and Glazing Area - treated as continuous variable.\n",
    "#Orientation, Glazing Area Distribution - treated as discrete variable             \n",
    "#Heating Load - continuous variable dependent variable (y)                \n",
    "\n",
    "df.dtypes"
   ]
  },
  {
   "cell_type": "code",
   "execution_count": 3,
   "id": "9a5f656b",
   "metadata": {},
   "outputs": [
    {
     "data": {
      "text/plain": [
       "(768, 9)"
      ]
     },
     "execution_count": 3,
     "metadata": {},
     "output_type": "execute_result"
    }
   ],
   "source": [
    "#Dataframe shape, to see number of variables (columns) \n",
    "#The dataset contains 768 observations and 9 variables, of which Heating Load is the dependent variable (y, or target)\n",
    "df.shape"
   ]
  },
  {
   "cell_type": "code",
   "execution_count": 4,
   "id": "9fe49107",
   "metadata": {},
   "outputs": [
    {
     "data": {
      "text/plain": [
       "False"
      ]
     },
     "execution_count": 4,
     "metadata": {},
     "output_type": "execute_result"
    }
   ],
   "source": [
    "#Searching for NA values\n",
    "df.isnull().values.any() #No NA values. No need to dropna values"
   ]
  },
  {
   "cell_type": "code",
   "execution_count": 5,
   "id": "f9b11030",
   "metadata": {},
   "outputs": [
    {
     "data": {
      "text/html": [
       "<div>\n",
       "<style scoped>\n",
       "    .dataframe tbody tr th:only-of-type {\n",
       "        vertical-align: middle;\n",
       "    }\n",
       "\n",
       "    .dataframe tbody tr th {\n",
       "        vertical-align: top;\n",
       "    }\n",
       "\n",
       "    .dataframe thead th {\n",
       "        text-align: right;\n",
       "    }\n",
       "</style>\n",
       "<table border=\"1\" class=\"dataframe\">\n",
       "  <thead>\n",
       "    <tr style=\"text-align: right;\">\n",
       "      <th></th>\n",
       "      <th>Mean</th>\n",
       "      <th>Standard Deviation</th>\n",
       "      <th>Minimum</th>\n",
       "      <th>Quantile 25</th>\n",
       "      <th>Median</th>\n",
       "      <th>Quantile 75</th>\n",
       "      <th>Maximum</th>\n",
       "      <th>Range</th>\n",
       "    </tr>\n",
       "  </thead>\n",
       "  <tbody>\n",
       "    <tr>\n",
       "      <th>Relative Compactness</th>\n",
       "      <td>0.764</td>\n",
       "      <td>0.106</td>\n",
       "      <td>0.62</td>\n",
       "      <td>0.682</td>\n",
       "      <td>0.75</td>\n",
       "      <td>0.830</td>\n",
       "      <td>0.98</td>\n",
       "      <td>0.36</td>\n",
       "    </tr>\n",
       "    <tr>\n",
       "      <th>Surface Area</th>\n",
       "      <td>671.708</td>\n",
       "      <td>88.086</td>\n",
       "      <td>514.50</td>\n",
       "      <td>606.375</td>\n",
       "      <td>673.75</td>\n",
       "      <td>741.125</td>\n",
       "      <td>808.50</td>\n",
       "      <td>294.00</td>\n",
       "    </tr>\n",
       "    <tr>\n",
       "      <th>Wall Area</th>\n",
       "      <td>318.500</td>\n",
       "      <td>43.626</td>\n",
       "      <td>245.00</td>\n",
       "      <td>294.000</td>\n",
       "      <td>318.50</td>\n",
       "      <td>343.000</td>\n",
       "      <td>416.50</td>\n",
       "      <td>171.50</td>\n",
       "    </tr>\n",
       "    <tr>\n",
       "      <th>Roof Area</th>\n",
       "      <td>176.604</td>\n",
       "      <td>45.166</td>\n",
       "      <td>110.25</td>\n",
       "      <td>140.875</td>\n",
       "      <td>183.75</td>\n",
       "      <td>220.500</td>\n",
       "      <td>220.50</td>\n",
       "      <td>110.25</td>\n",
       "    </tr>\n",
       "    <tr>\n",
       "      <th>Overall Height</th>\n",
       "      <td>5.250</td>\n",
       "      <td>1.751</td>\n",
       "      <td>3.50</td>\n",
       "      <td>3.500</td>\n",
       "      <td>5.25</td>\n",
       "      <td>7.000</td>\n",
       "      <td>7.00</td>\n",
       "      <td>3.50</td>\n",
       "    </tr>\n",
       "    <tr>\n",
       "      <th>Orientation</th>\n",
       "      <td>3.500</td>\n",
       "      <td>1.119</td>\n",
       "      <td>2.00</td>\n",
       "      <td>2.750</td>\n",
       "      <td>3.50</td>\n",
       "      <td>4.250</td>\n",
       "      <td>5.00</td>\n",
       "      <td>3.00</td>\n",
       "    </tr>\n",
       "    <tr>\n",
       "      <th>Glazing Area</th>\n",
       "      <td>0.234</td>\n",
       "      <td>0.133</td>\n",
       "      <td>0.00</td>\n",
       "      <td>0.100</td>\n",
       "      <td>0.25</td>\n",
       "      <td>0.400</td>\n",
       "      <td>0.40</td>\n",
       "      <td>0.40</td>\n",
       "    </tr>\n",
       "    <tr>\n",
       "      <th>Glazing Area Distribution</th>\n",
       "      <td>2.812</td>\n",
       "      <td>1.551</td>\n",
       "      <td>0.00</td>\n",
       "      <td>1.750</td>\n",
       "      <td>3.00</td>\n",
       "      <td>4.000</td>\n",
       "      <td>5.00</td>\n",
       "      <td>5.00</td>\n",
       "    </tr>\n",
       "    <tr>\n",
       "      <th>Heating Load</th>\n",
       "      <td>22.307</td>\n",
       "      <td>10.090</td>\n",
       "      <td>6.01</td>\n",
       "      <td>12.992</td>\n",
       "      <td>18.95</td>\n",
       "      <td>31.668</td>\n",
       "      <td>43.10</td>\n",
       "      <td>37.09</td>\n",
       "    </tr>\n",
       "  </tbody>\n",
       "</table>\n",
       "</div>"
      ],
      "text/plain": [
       "                              Mean  Standard Deviation  Minimum  Quantile 25  \\\n",
       "Relative Compactness         0.764               0.106     0.62        0.682   \n",
       "Surface Area               671.708              88.086   514.50      606.375   \n",
       "Wall Area                  318.500              43.626   245.00      294.000   \n",
       "Roof Area                  176.604              45.166   110.25      140.875   \n",
       "Overall Height               5.250               1.751     3.50        3.500   \n",
       "Orientation                  3.500               1.119     2.00        2.750   \n",
       "Glazing Area                 0.234               0.133     0.00        0.100   \n",
       "Glazing Area Distribution    2.812               1.551     0.00        1.750   \n",
       "Heating Load                22.307              10.090     6.01       12.992   \n",
       "\n",
       "                           Median  Quantile 75  Maximum   Range  \n",
       "Relative Compactness         0.75        0.830     0.98    0.36  \n",
       "Surface Area               673.75      741.125   808.50  294.00  \n",
       "Wall Area                  318.50      343.000   416.50  171.50  \n",
       "Roof Area                  183.75      220.500   220.50  110.25  \n",
       "Overall Height               5.25        7.000     7.00    3.50  \n",
       "Orientation                  3.50        4.250     5.00    3.00  \n",
       "Glazing Area                 0.25        0.400     0.40    0.40  \n",
       "Glazing Area Distribution    3.00        4.000     5.00    5.00  \n",
       "Heating Load                18.95       31.668    43.10   37.09  "
      ]
     },
     "execution_count": 5,
     "metadata": {},
     "output_type": "execute_result"
    }
   ],
   "source": [
    "#Analyze general data;\n",
    "gen_desc = df.describe().T\n",
    "gen_desc = gen_desc.drop ('count', axis = 1)\n",
    "gen_desc.rename (columns = {'50%':'Median',\n",
    "                           'mean':'Mean',\n",
    "                           'std':'Standard Deviation',\n",
    "                           'min':'Minimum',\n",
    "                           '25%':'Quantile 25',\n",
    "                           '75%':'Quantile 75',\n",
    "                           'max':'Maximum'}, inplace = True)\n",
    "\n",
    "gen_desc['Range'] =  gen_desc['Maximum'] - gen_desc['Minimum']\n",
    "\n",
    "gen_desc = np.round(gen_desc, decimals=3) ## round to better visualization\n",
    "gen_desc"
   ]
  },
  {
   "cell_type": "code",
   "execution_count": 6,
   "id": "a0f2c5fc",
   "metadata": {},
   "outputs": [
    {
     "data": {
      "text/plain": [
       "(array([ 20., 187., 153.,  39.,  39.,  59.,  83.,  83.,  59.,  46.]),\n",
       " array([ 6.01 ,  9.719, 13.428, 17.137, 20.846, 24.555, 28.264, 31.973,\n",
       "        35.682, 39.391, 43.1  ]),\n",
       " <BarContainer object of 10 artists>)"
      ]
     },
     "execution_count": 6,
     "metadata": {},
     "output_type": "execute_result"
    },
    {
     "data": {
      "image/png": "[encoded data removed]",
      "text/plain": [
       "<Figure size 432x288 with 1 Axes>"
      ]
     },
     "metadata": {
      "needs_background": "light"
     },
     "output_type": "display_data"
    }
   ],
   "source": [
    "#Fires are relatively rare in the dataframe, so the area consumed by fire is skewed to zero.\n",
    "#Confirming this tendency observed in the descriptive analysis (above).\n",
    "%matplotlib inline\n",
    "plt.hist (df['Heating Load'])"
   ]
  },
  {
   "cell_type": "code",
   "execution_count": 7,
   "id": "aea7b4eb",
   "metadata": {},
   "outputs": [
    {
     "data": {
      "text/plain": [
       "(array([ 16.,   4.,  77., 132., 139.,  31.,  56., 113., 110.,  90.]),\n",
       " array([2.07124993, 2.37715561, 2.68306128, 2.98896696, 3.29487263,\n",
       "        3.6007783 , 3.90668398, 4.21258965, 4.51849533, 4.824401  ,\n",
       "        5.13030668]),\n",
       " <BarContainer object of 10 artists>)"
      ]
     },
     "execution_count": 7,
     "metadata": {},
     "output_type": "execute_result"
    },
    {
     "data": {
      "image/png": "[encoded data removed]",
      "text/plain": [
       "<Figure size 432x288 with 1 Axes>"
      ]
     },
     "metadata": {
      "needs_background": "light"
     },
     "output_type": "display_data"
    }
   ],
   "source": [
    "#boxcox_transform y\n",
    "y_bc = boxcox(df['Heating Load'])[0] #Adding a small value to make boxcox possible\n",
    "lambda_bc = boxcox(df['Heating Load'])[1]\n",
    "plt.hist (y_bc)"
   ]
  },
  {
   "cell_type": "code",
   "execution_count": 8,
   "id": "4283ff8d",
   "metadata": {},
   "outputs": [
    {
     "name": "stdout",
     "output_type": "stream",
     "text": [
      "original NormaltestResult(statistic=805.1379894106694, pvalue=1.4672597839006393e-175)\n",
      "boxcox_full NormaltestResult(statistic=778.6176659406502, pvalue=8.420193749868054e-170)\n"
     ]
    }
   ],
   "source": [
    "#Seeing sample normality after boxcox transformation\n",
    "print ('original', normaltest(df['Heating Load'])) #Non-normal distribution, given p < 0.05.\n",
    "\n",
    "print ('boxcox_full', normaltest(y_bc)) #Non-normal distribution for boxcox transformed data, given p < 0.05;\n",
    "\n",
    "#Y variable following the normal distribution is not required for regression. Although it usually provides better results."
   ]
  },
  {
   "cell_type": "markdown",
   "id": "e8d0f750",
   "metadata": {},
   "source": [
    "### 4) Data wrangling and preparation"
   ]
  },
  {
   "cell_type": "code",
   "execution_count": 9,
   "id": "cb61e6f8",
   "metadata": {
    "scrolled": true
   },
   "outputs": [],
   "source": [
    "#Removing outliers\n",
    "df = df[(np.abs(stats.zscore(df)) < 3).all(axis=1)] #No outlier\n",
    "\n",
    "#Creating series and dataframes to the further analyses.\n",
    "X = df.drop ('Heating Load', axis = 1)\n",
    "y = df ['Heating Load']"
   ]
  },
  {
   "cell_type": "markdown",
   "id": "20f25755",
   "metadata": {},
   "source": [
    "### 5) Objectives"
   ]
  },
  {
   "cell_type": "markdown",
   "id": "91b60e81",
   "metadata": {},
   "source": [
    "The objective of this assignment is to create models that can accurately predicts Heat load, by using linear regression.\n",
    "\n",
    "Different models will be generated iteratively with cross validation strategy, in addition to grid search to find the best hyperameters to fit the model, including regularization. \n",
    "\n",
    "The model will be also evaluated, assessing error parameters, like RMSE, and R² metric for the train and test dataset, which allows detection of overfitting and underfitting. The best model will be selected based on the lowest RMSE, and highest R².\n",
    "\n",
    "Investigate which features are most \"impactful\" to predict (affect) y variable."
   ]
  },
  {
   "cell_type": "markdown",
   "id": "d2247b93",
   "metadata": {},
   "source": [
    "### 6) Regression models construction"
   ]
  },
  {
   "cell_type": "markdown",
   "id": "1332829d",
   "metadata": {},
   "source": [
    "### Model 1- Standard scaled linear regression without regularization"
   ]
  },
  {
   "cell_type": "code",
   "execution_count": 10,
   "id": "5d981955",
   "metadata": {},
   "outputs": [
    {
     "data": {
      "text/plain": [
       "rmse_train    2.921524\n",
       "rmse_test     2.967951\n",
       "r2_train      0.916029\n",
       "r2_test       0.913031\n",
       "dtype: float64"
      ]
     },
     "execution_count": 10,
     "metadata": {},
     "output_type": "execute_result"
    }
   ],
   "source": [
    "#Due to the different scales in numeric variables, standard scaler is needed.\n",
    "s = StandardScaler()\n",
    "\n",
    "X_ss = pd.DataFrame (s.fit_transform(X))\n",
    "\n",
    "\n",
    "#Defining K-fold strategy and regression algorithm\n",
    "kf = KFold(shuffle=True, random_state=72018, n_splits=4)\n",
    "lr = LinearRegression ()\n",
    "\n",
    "#Running linear regression with k-fold cross validation strategy\n",
    "lr_validation = []\n",
    "\n",
    "for train_index, test_index in kf.split(X):\n",
    "    \n",
    "    #Train x test split\n",
    "    X_train, X_test, y_train, y_test = (X.iloc[train_index, :], \n",
    "                                        X.iloc[test_index, :], \n",
    "                                        y[train_index], \n",
    "                                        y[test_index])\n",
    "    \n",
    "    #Fitting data to a linear regression\n",
    "    lr.fit(X_train, y_train)\n",
    "    \n",
    "    #Predicting y hat\n",
    "    y_test_pred = lr.predict(X_test)\n",
    "    y_train_pred = lr.predict(X_train)\n",
    "    \n",
    "    #Calculating R² and RMSE\n",
    "    lr_validation.append (pd.Series ({'rmse_train': np.sqrt(mean_squared_error(y_train, y_train_pred)),\n",
    "                                      'rmse_test' : np.sqrt(mean_squared_error(y_test,  y_test_pred)),\n",
    "                                      'r2_train' : r2_score(y_train, y_train_pred),\n",
    "                                      'r2_test'  : r2_score(y_test,  y_test_pred)}))\n",
    "\n",
    "\n",
    "\n",
    "#Seeing the validation results (R² and RMSE)\n",
    "lr_validation = pd.DataFrame (lr_validation)\n",
    "lr_validation.mean()"
   ]
  },
  {
   "cell_type": "markdown",
   "id": "3db3e922",
   "metadata": {},
   "source": [
    "### Model 2- Poynomial features standard scaled linear regression without regularization"
   ]
  },
  {
   "cell_type": "code",
   "execution_count": 11,
   "id": "95fd8b6b",
   "metadata": {},
   "outputs": [
    {
     "data": {
      "text/plain": [
       "rmse_train    0.724195\n",
       "rmse_test     0.759892\n",
       "r2_train      0.994840\n",
       "r2_test       0.994295\n",
       "dtype: float64"
      ]
     },
     "execution_count": 11,
     "metadata": {},
     "output_type": "execute_result"
    }
   ],
   "source": [
    "#Converting to polynomial feature degree 2\n",
    "pf = PolynomialFeatures(degree=2, include_bias=False)\n",
    "s = StandardScaler()\n",
    "\n",
    "X_pf = pd.DataFrame (pf.fit_transform(X))\n",
    "X = pd.DataFrame (s.fit_transform(X_pf))\n",
    "\n",
    "#Defining X and y\n",
    "\n",
    "#Defining K-fold strategy and regression algorithm\n",
    "kf = KFold(shuffle=True, random_state=72018, n_splits=4)\n",
    "lr = LinearRegression ()\n",
    "\n",
    "#Running linear regression with k-fold cross validation strategy\n",
    "lr_validation = []\n",
    "\n",
    "for train_index, test_index in kf.split(X):\n",
    "    \n",
    "    #Train x test split\n",
    "    X_train, X_test, y_train, y_test = (X.iloc[train_index, :], \n",
    "                                        X.iloc[test_index, :], \n",
    "                                        y[train_index], \n",
    "                                        y[test_index])\n",
    "    \n",
    "    #Fitting data to a linear regression\n",
    "    lr.fit(X_train, y_train)\n",
    "    \n",
    "    #Predicting y hat\n",
    "    y_test_pred = lr.predict(X_test)\n",
    "    y_train_pred = lr.predict(X_train)\n",
    "    \n",
    "    #Calculating R² and RMSE\n",
    "    lr_validation.append (pd.Series ({'rmse_train': np.sqrt(mean_squared_error(y_train, y_train_pred)),\n",
    "                                      'rmse_test' : np.sqrt(mean_squared_error(y_test,  y_test_pred)),\n",
    "                                      'r2_train' : r2_score(y_train, y_train_pred),\n",
    "                                      'r2_test'  : r2_score(y_test,  y_test_pred)}))\n",
    "\n",
    "\n",
    "#Seeing the validation results (R² and RMSE)\n",
    "lr_validation = pd.DataFrame (lr_validation)\n",
    "lr_validation.mean() # Huge decrease in error and huge increase in R²"
   ]
  },
  {
   "cell_type": "markdown",
   "id": "40955874",
   "metadata": {},
   "source": [
    "### Model 3- Polynomial features standard scaled linear regression with L1 regularization, cross validation and grid search"
   ]
  },
  {
   "cell_type": "code",
   "execution_count": 12,
   "id": "1998c901",
   "metadata": {
    "scrolled": true
   },
   "outputs": [
    {
     "name": "stderr",
     "output_type": "stream",
     "text": [
      "C:\\Users\\gabrielkytz\\anaconda3\\lib\\site-packages\\sklearn\\linear_model\\_coordinate_descent.py:530: ConvergenceWarning: Objective did not converge. You might want to increase the number of iterations. Duality gap: 15.421869653227397, tolerance: 5.81568279834375\n",
      "  model = cd_fast.enet_coordinate_descent(\n",
      "C:\\Users\\gabrielkytz\\anaconda3\\lib\\site-packages\\sklearn\\linear_model\\_coordinate_descent.py:530: ConvergenceWarning: Objective did not converge. You might want to increase the number of iterations. Duality gap: 18.154798537026544, tolerance: 5.895422309930557\n",
      "  model = cd_fast.enet_coordinate_descent(\n",
      "C:\\Users\\gabrielkytz\\anaconda3\\lib\\site-packages\\sklearn\\linear_model\\_coordinate_descent.py:530: ConvergenceWarning: Objective did not converge. You might want to increase the number of iterations. Duality gap: 19.307830122956233, tolerance: 5.9267878429305565\n",
      "  model = cd_fast.enet_coordinate_descent(\n",
      "C:\\Users\\gabrielkytz\\anaconda3\\lib\\site-packages\\sklearn\\linear_model\\_coordinate_descent.py:530: ConvergenceWarning: Objective did not converge. You might want to increase the number of iterations. Duality gap: 14.789640705150955, tolerance: 5.785085448000001\n",
      "  model = cd_fast.enet_coordinate_descent(\n",
      "C:\\Users\\gabrielkytz\\anaconda3\\lib\\site-packages\\sklearn\\linear_model\\_coordinate_descent.py:530: ConvergenceWarning: Objective did not converge. You might want to increase the number of iterations. Duality gap: 14.789640705150955, tolerance: 5.785085448000001\n",
      "  model = cd_fast.enet_coordinate_descent(\n"
     ]
    },
    {
     "data": {
      "text/html": [
       "<div>\n",
       "<style scoped>\n",
       "    .dataframe tbody tr th:only-of-type {\n",
       "        vertical-align: middle;\n",
       "    }\n",
       "\n",
       "    .dataframe tbody tr th {\n",
       "        vertical-align: top;\n",
       "    }\n",
       "\n",
       "    .dataframe thead th {\n",
       "        text-align: right;\n",
       "    }\n",
       "</style>\n",
       "<table border=\"1\" class=\"dataframe\">\n",
       "  <thead>\n",
       "    <tr style=\"text-align: right;\">\n",
       "      <th></th>\n",
       "      <th>0</th>\n",
       "      <th>alpha</th>\n",
       "    </tr>\n",
       "  </thead>\n",
       "  <tbody>\n",
       "    <tr>\n",
       "      <th>rmse_train</th>\n",
       "      <td>0.351124</td>\n",
       "      <td>0.0001</td>\n",
       "    </tr>\n",
       "    <tr>\n",
       "      <th>rmse_test</th>\n",
       "      <td>0.467400</td>\n",
       "      <td>0.0001</td>\n",
       "    </tr>\n",
       "    <tr>\n",
       "      <th>r2_train</th>\n",
       "      <td>0.998787</td>\n",
       "      <td>0.0001</td>\n",
       "    </tr>\n",
       "    <tr>\n",
       "      <th>r2_test</th>\n",
       "      <td>0.997841</td>\n",
       "      <td>0.0001</td>\n",
       "    </tr>\n",
       "  </tbody>\n",
       "</table>\n",
       "</div>"
      ],
      "text/plain": [
       "                   0   alpha\n",
       "rmse_train  0.351124  0.0001\n",
       "rmse_test   0.467400  0.0001\n",
       "r2_train    0.998787  0.0001\n",
       "r2_test     0.997841  0.0001"
      ]
     },
     "execution_count": 12,
     "metadata": {},
     "output_type": "execute_result"
    }
   ],
   "source": [
    "#Due to the different scales in numeric variables, standard scaler is needed.\n",
    "pf = PolynomialFeatures(degree=2, include_bias=False)\n",
    "s = StandardScaler()\n",
    "\n",
    "X_pf = pd.DataFrame (pf.fit_transform(X))\n",
    "X = pd.DataFrame (s.fit_transform(X_pf))\n",
    "\n",
    "#Defining K-fold strategy and regression algorithm\n",
    "kf = KFold(shuffle=True, random_state=72018, n_splits=4)\n",
    "\n",
    "#Creating a list of alphas\n",
    "alphas = [1e-4, 1e-2, 1, 4, 10, 20]\n",
    "\n",
    "#Running linear regression with k-fold cross validation strategy\n",
    "r2_test = 0\n",
    "\n",
    "for alpha in alphas:\n",
    "    las = Lasso (alpha, max_iter = 10000)\n",
    "    las_validation = []\n",
    "    \n",
    "    for train_index, test_index in kf.split(X):\n",
    "\n",
    "        #Train x test split\n",
    "        X_train, X_test, y_train, y_test = (X.iloc[train_index, :], \n",
    "                                            X.iloc[test_index, :], \n",
    "                                            y[train_index], \n",
    "                                            y[test_index])\n",
    "        \n",
    "        #Fitting data to a linear regression\n",
    "        las.fit(X_train, y_train)\n",
    "        \n",
    "        #Predicting y hat\n",
    "        y_test_pred = las.predict(X_test)\n",
    "        y_train_pred = las.predict(X_train)\n",
    "        \n",
    "        #Calculating R² and RMSE\n",
    "        las_validation.append (pd.Series ({'rmse_train': np.sqrt(mean_squared_error(y_train, y_train_pred)),\n",
    "                                           'rmse_test' : np.sqrt(mean_squared_error(y_test,  y_test_pred)),\n",
    "                                           'r2_train' : r2_score(y_train, y_train_pred),\n",
    "                                           'r2_test'  : r2_score(y_test, y_test_pred)}))\n",
    "\n",
    "    #Seeing the validation results (R² and RMSE)\n",
    "    las_validation = pd.DataFrame (las_validation)\n",
    "    \n",
    "    #identifying the best model\n",
    "    if las_validation.mean()['r2_test'] > r2_test:\n",
    "        r2_test = las_validation.mean()['r2_test']\n",
    "        best_model_las = pd.DataFrame (las_validation.mean())\n",
    "        best_model_las ['alpha'] = alpha\n",
    "        final_las_model = las.fit(X_train, y_train) #Saving best model\n",
    "        \n",
    "#Seeing the best model\n",
    "best_model_las #Slightly reduces error and slightly increase in R², when compared to the polynomial feature standard scaled model\n",
    "#Best model has alpha hyperparameter of 0.0001"
   ]
  },
  {
   "cell_type": "markdown",
   "id": "24b2aa99",
   "metadata": {},
   "source": [
    "### Model 4- Polynomial features standard scaled linear regression with L2 regularization cross validation and grid search"
   ]
  },
  {
   "cell_type": "code",
   "execution_count": 13,
   "id": "29812790",
   "metadata": {},
   "outputs": [
    {
     "data": {
      "text/html": [
       "<div>\n",
       "<style scoped>\n",
       "    .dataframe tbody tr th:only-of-type {\n",
       "        vertical-align: middle;\n",
       "    }\n",
       "\n",
       "    .dataframe tbody tr th {\n",
       "        vertical-align: top;\n",
       "    }\n",
       "\n",
       "    .dataframe thead th {\n",
       "        text-align: right;\n",
       "    }\n",
       "</style>\n",
       "<table border=\"1\" class=\"dataframe\">\n",
       "  <thead>\n",
       "    <tr style=\"text-align: right;\">\n",
       "      <th></th>\n",
       "      <th>0</th>\n",
       "      <th>alpha</th>\n",
       "    </tr>\n",
       "  </thead>\n",
       "  <tbody>\n",
       "    <tr>\n",
       "      <th>rmse_train</th>\n",
       "      <td>0.166177</td>\n",
       "      <td>20</td>\n",
       "    </tr>\n",
       "    <tr>\n",
       "      <th>rmse_test</th>\n",
       "      <td>0.534076</td>\n",
       "      <td>20</td>\n",
       "    </tr>\n",
       "    <tr>\n",
       "      <th>r2_train</th>\n",
       "      <td>0.999728</td>\n",
       "      <td>20</td>\n",
       "    </tr>\n",
       "    <tr>\n",
       "      <th>r2_test</th>\n",
       "      <td>0.997152</td>\n",
       "      <td>20</td>\n",
       "    </tr>\n",
       "  </tbody>\n",
       "</table>\n",
       "</div>"
      ],
      "text/plain": [
       "                   0  alpha\n",
       "rmse_train  0.166177     20\n",
       "rmse_test   0.534076     20\n",
       "r2_train    0.999728     20\n",
       "r2_test     0.997152     20"
      ]
     },
     "execution_count": 13,
     "metadata": {},
     "output_type": "execute_result"
    }
   ],
   "source": [
    "#Due to the different scales in numeric variables, standard scaler is needed.\n",
    "pf = PolynomialFeatures(degree=2, include_bias=False)\n",
    "s = StandardScaler()\n",
    "\n",
    "X_pf = pd.DataFrame (pf.fit_transform(X))\n",
    "X = pd.DataFrame (s.fit_transform(X_pf))\n",
    "\n",
    "#Defining K-fold strategy and regression algorithm\n",
    "kf = KFold(shuffle=True, random_state=72018, n_splits=4)\n",
    "\n",
    "#Creating a list of alphas\n",
    "alphas = [1e-4, 1e-2, 1, 4, 10, 20]\n",
    "\n",
    "r2_test = 0\n",
    "#Running linear regression with k-fold cross validation strategy\n",
    "for alpha in alphas:\n",
    "    rid = Ridge (alpha)\n",
    "    rid_validation = []\n",
    "\n",
    "    for train_index, test_index in kf.split(X):\n",
    "\n",
    "        #Train x test split\n",
    "        X_train, X_test, y_train, y_test = (X.iloc[train_index, :], \n",
    "                                            X.iloc[test_index, :], \n",
    "                                            y[train_index], \n",
    "                                            y[test_index])\n",
    "        \n",
    "        #Fitting data to a linear regression\n",
    "        rid.fit(X_train, y_train)\n",
    "        \n",
    "        #Predicting y hat\n",
    "        y_test_pred = rid.predict(X_test)\n",
    "        y_train_pred = rid.predict(X_train)\n",
    "\n",
    "        #Calculating R² and RMSE\n",
    "        rid_validation.append (pd.Series ({'rmse_train': np.sqrt(mean_squared_error(y_train, y_train_pred)),\n",
    "                                           'rmse_test' : np.sqrt(mean_squared_error(y_test,  y_test_pred)),\n",
    "                                           'r2_train' : r2_score(y_train, y_train_pred),\n",
    "                                           'r2_test'  : r2_score(y_test, y_test_pred)}))\n",
    "\n",
    "    #Seeing the validation results (R² and RMSE)\n",
    "    rid_validation = pd.DataFrame (rid_validation)\n",
    "    \n",
    "    #identifying the best model\n",
    "    if rid_validation.mean()['r2_test'] > r2_test:\n",
    "        r2_test = rid_validation.mean()['r2_test']\n",
    "        best_model_rid = pd.DataFrame (rid_validation.mean())\n",
    "        best_model_rid['alpha'] = alpha\n",
    "        final_rid_model = rid.fit(X_train, y_train) #Saving best model\n",
    "        \n",
    "#Seeing the best model\n",
    "best_model_rid"
   ]
  },
  {
   "cell_type": "markdown",
   "id": "6d78a673",
   "metadata": {},
   "source": [
    "### 7) Analyzing feature importance for the best model (Model 3)"
   ]
  },
  {
   "cell_type": "code",
   "execution_count": 18,
   "id": "a480ee44",
   "metadata": {},
   "outputs": [
    {
     "data": {
      "text/html": [
       "<div>\n",
       "<style scoped>\n",
       "    .dataframe tbody tr th:only-of-type {\n",
       "        vertical-align: middle;\n",
       "    }\n",
       "\n",
       "    .dataframe tbody tr th {\n",
       "        vertical-align: top;\n",
       "    }\n",
       "\n",
       "    .dataframe thead th {\n",
       "        text-align: right;\n",
       "    }\n",
       "</style>\n",
       "<table border=\"1\" class=\"dataframe\">\n",
       "  <thead>\n",
       "    <tr style=\"text-align: right;\">\n",
       "      <th></th>\n",
       "      <th>0</th>\n",
       "      <th>1</th>\n",
       "    </tr>\n",
       "  </thead>\n",
       "  <tbody>\n",
       "    <tr>\n",
       "      <th>5</th>\n",
       "      <td>Orientation</td>\n",
       "      <td>0.000000</td>\n",
       "    </tr>\n",
       "    <tr>\n",
       "      <th>7</th>\n",
       "      <td>Glazing Area Distribution</td>\n",
       "      <td>0.000000</td>\n",
       "    </tr>\n",
       "    <tr>\n",
       "      <th>8</th>\n",
       "      <td>Heating Load</td>\n",
       "      <td>0.000000</td>\n",
       "    </tr>\n",
       "    <tr>\n",
       "      <th>1</th>\n",
       "      <td>Surface Area</td>\n",
       "      <td>0.179783</td>\n",
       "    </tr>\n",
       "    <tr>\n",
       "      <th>4</th>\n",
       "      <td>Overall Height</td>\n",
       "      <td>0.654143</td>\n",
       "    </tr>\n",
       "    <tr>\n",
       "      <th>6</th>\n",
       "      <td>Glazing Area</td>\n",
       "      <td>1.541375</td>\n",
       "    </tr>\n",
       "    <tr>\n",
       "      <th>3</th>\n",
       "      <td>Roof Area</td>\n",
       "      <td>1.643476</td>\n",
       "    </tr>\n",
       "    <tr>\n",
       "      <th>0</th>\n",
       "      <td>Relative Compactness</td>\n",
       "      <td>4.636555</td>\n",
       "    </tr>\n",
       "    <tr>\n",
       "      <th>2</th>\n",
       "      <td>Wall Area</td>\n",
       "      <td>5.897008</td>\n",
       "    </tr>\n",
       "  </tbody>\n",
       "</table>\n",
       "</div>"
      ],
      "text/plain": [
       "                           0         1\n",
       "5                Orientation  0.000000\n",
       "7  Glazing Area Distribution  0.000000\n",
       "8               Heating Load  0.000000\n",
       "1               Surface Area  0.179783\n",
       "4             Overall Height  0.654143\n",
       "6               Glazing Area  1.541375\n",
       "3                  Roof Area  1.643476\n",
       "0       Relative Compactness  4.636555\n",
       "2                  Wall Area  5.897008"
      ]
     },
     "execution_count": 18,
     "metadata": {},
     "output_type": "execute_result"
    }
   ],
   "source": [
    "pd.DataFrame(zip(df.columns, abs (final_las_model.coef_))).sort_values(by=1) #absolute importance"
   ]
  },
  {
   "cell_type": "code",
   "execution_count": 19,
   "id": "bd674a56",
   "metadata": {},
   "outputs": [
    {
     "data": {
      "text/html": [
       "<div>\n",
       "<style scoped>\n",
       "    .dataframe tbody tr th:only-of-type {\n",
       "        vertical-align: middle;\n",
       "    }\n",
       "\n",
       "    .dataframe tbody tr th {\n",
       "        vertical-align: top;\n",
       "    }\n",
       "\n",
       "    .dataframe thead th {\n",
       "        text-align: right;\n",
       "    }\n",
       "</style>\n",
       "<table border=\"1\" class=\"dataframe\">\n",
       "  <thead>\n",
       "    <tr style=\"text-align: right;\">\n",
       "      <th></th>\n",
       "      <th>0</th>\n",
       "      <th>1</th>\n",
       "    </tr>\n",
       "  </thead>\n",
       "  <tbody>\n",
       "    <tr>\n",
       "      <th>3</th>\n",
       "      <td>Roof Area</td>\n",
       "      <td>-1.643476</td>\n",
       "    </tr>\n",
       "    <tr>\n",
       "      <th>1</th>\n",
       "      <td>Surface Area</td>\n",
       "      <td>-0.179783</td>\n",
       "    </tr>\n",
       "    <tr>\n",
       "      <th>5</th>\n",
       "      <td>Orientation</td>\n",
       "      <td>0.000000</td>\n",
       "    </tr>\n",
       "    <tr>\n",
       "      <th>7</th>\n",
       "      <td>Glazing Area Distribution</td>\n",
       "      <td>0.000000</td>\n",
       "    </tr>\n",
       "    <tr>\n",
       "      <th>8</th>\n",
       "      <td>Heating Load</td>\n",
       "      <td>0.000000</td>\n",
       "    </tr>\n",
       "    <tr>\n",
       "      <th>4</th>\n",
       "      <td>Overall Height</td>\n",
       "      <td>0.654143</td>\n",
       "    </tr>\n",
       "    <tr>\n",
       "      <th>6</th>\n",
       "      <td>Glazing Area</td>\n",
       "      <td>1.541375</td>\n",
       "    </tr>\n",
       "    <tr>\n",
       "      <th>0</th>\n",
       "      <td>Relative Compactness</td>\n",
       "      <td>4.636555</td>\n",
       "    </tr>\n",
       "    <tr>\n",
       "      <th>2</th>\n",
       "      <td>Wall Area</td>\n",
       "      <td>5.897008</td>\n",
       "    </tr>\n",
       "  </tbody>\n",
       "</table>\n",
       "</div>"
      ],
      "text/plain": [
       "                           0         1\n",
       "3                  Roof Area -1.643476\n",
       "1               Surface Area -0.179783\n",
       "5                Orientation  0.000000\n",
       "7  Glazing Area Distribution  0.000000\n",
       "8               Heating Load  0.000000\n",
       "4             Overall Height  0.654143\n",
       "6               Glazing Area  1.541375\n",
       "0       Relative Compactness  4.636555\n",
       "2                  Wall Area  5.897008"
      ]
     },
     "execution_count": 19,
     "metadata": {},
     "output_type": "execute_result"
    }
   ],
   "source": [
    "pd.DataFrame(zip(df.columns, final_las_model.coef_)).sort_values(by=1) # direction of influence in y variable"
   ]
  },
  {
   "cell_type": "markdown",
   "id": "fb84efa1",
   "metadata": {},
   "source": [
    "### 8) Discussion"
   ]
  },
  {
   "cell_type": "markdown",
   "id": "f7ccd489",
   "metadata": {},
   "source": [
    "1- We successfully created linear regression models to predict Heating Load based on the combination of 8 numeric variables (feature). Different linear models were created, by using polynomial features, standard scaler, L1 and L2 regularization. A grid search using different alpha parameters were performed for L1 and L2 regularization models.\n",
    "\n",
    "2- The validation analysis showed that the best model, i.e. that with the greatest R² and lowest RMSE for the test set, is the model 3: polynomial features standard scaled linear regression with L1 regularization (alpha 0.0001), cross validation and grid search). This model presented 0.997841 of R² score, very close to the highest possible value (1), and a RMSE ver small, close to zero (lowest error value possible).\n",
    "\n",
    "3- Both train and test sets presented high and similar values, suggesting that this model is not overfitted.\n",
    "\n",
    "4- Model 3 is a very accurate regression model that can predict with elevated precision the value of Heating Load.\n",
    "\n",
    "5- According to the the analyze of feature importance, Wall Area and Relactive Compactness are the features that exert most influence y variable (Heating Load). Orientation, Glazing Area Distribution, and Heating Load have no impact on y variable (Heating Load). When analyzing the direction of feature influence on y, Roof Area and Surface area are responsible for reducing Heating load, Overall Height, Glazing Area, Relative Compactness and Wall Area are responsible for increasing Heating load."
   ]
  },
  {
   "cell_type": "markdown",
   "id": "3d751a91",
   "metadata": {},
   "source": [
    "### 9) Perspectives"
   ]
  },
  {
   "cell_type": "markdown",
   "id": "9e2a2d13",
   "metadata": {},
   "source": [
    "Given the R²value and RMSE calculated for Model 3 (Polynomial features standard scaled linear regression with L1 regularization, cross validation and grid search), very few or no adjustments in the model are necessary. The RMSE value (0.997841) for the test set is almost the maximum possible, 1. The RMSE (0.467400) is also the lowest possible, 0. \n",
    "\n",
    "Many other predictive models could be selected for this task, like neural networks, for example. However, given the great scores obtained in the validation step, it won't be necessary to use a more complex algorithm or collect more data to improve the model.\n",
    "\n",
    "Other possible model could be constructed using the Cooling Load variable, as the y (dependent)variable. This dataset contains 2 possible y variables: Heating Load and Cooling Load, as suggested by the dataset's author (A. Tsanas, A. Xifara, 2012). All the predictive analysis were performed in this assignment using Heating Load, so Cooling Load was not included."
   ]
  }
 ],
 "metadata": {
  "kernelspec": {
   "display_name": "Python 3",
   "language": "python",
   "name": "python3"
  },
  "language_info": {
   "codemirror_mode": {
    "name": "ipython",
    "version": 3
   },
   "file_extension": ".py",
   "mimetype": "text/x-python",
   "name": "python",
   "nbconvert_exporter": "python",
   "pygments_lexer": "ipython3",
   "version": "3.8.8"
  }
 },
 "nbformat": 4,
 "nbformat_minor": 5
}
